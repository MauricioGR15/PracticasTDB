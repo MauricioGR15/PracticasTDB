{
    "metadata": {
        "kernelspec": {
            "name": "SQL",
            "display_name": "SQL",
            "language": "sql"
        },
        "language_info": {
            "name": "sql",
            "version": ""
        }
    },
    "nbformat_minor": 2,
    "nbformat": 4,
    "cells": [
        {
            "cell_type": "markdown",
            "source": [
                "# Check Constraints\n",
                "\n",
                "Una restricción `CHECK` permite especificar una condición sobre el valor de una fila.\n",
                "La sintaxis es:\n",
                "\n",
                "``` \n",
                "CREATE TABLE table_name (\n",
                "  column1 datatype [ NULL | NOT NULL ],\n",
                "  column2 datatype [ NULL | NOT NULL ],\n",
                "\n",
                "  ...\n",
                "\n",
                "  CONSTRAINT constraint_name\n",
                "    CHECK [ NOT FOR REPLICATION ] (column_name condition)\n",
                "\n",
                ");\n",
                "```\n",
                "*table_name*       El nombre de la tabla a la cual le agregaremos la restricción `CHECK`.<br>\n",
                "*constraint_name* El nombre que le asignaremos a la restricción. <br>\n",
                "*column_name* La columna a la cual se le aplica la restricción.<br>\n",
                "*condition* La condicion que se debe cumplir.\n",
                "\n",
                ""
            ],
            "metadata": {
                "azdata_cell_guid": "576ed78b-47c4-4343-8eac-5a23a3c90dbb"
            }
        },
        {
            "cell_type": "code",
            "source": [
                "--Para dejar en blanco la base de datos prueba ejecute este bloque\n",
                "--Ejecute este bloque(colapsado) para usarla \n",
                "\n",
                "IF EXISTS \n",
                "   (\n",
                "     SELECT name FROM master.dbo.sysdatabases \n",
                "     WHERE name = 'Pruebas'\n",
                "    )\n",
                "    DROP DATABASE Pruebas\n",
                "GO\n",
                "\n",
                "CREATE DATABASE Pruebas\n",
                "GO\n",
                "\n",
                "use Pruebas\n",
                ""
            ],
            "metadata": {
                "azdata_cell_guid": "ec24e757-fd8b-49f4-a763-003ce9cf4d3e",
                "tags": []
            },
            "outputs": [
                {
                    "output_type": "display_data",
                    "data": {
                        "text/html": "Commands completed successfully."
                    },
                    "metadata": {}
                },
                {
                    "output_type": "display_data",
                    "data": {
                        "text/html": "Commands completed successfully."
                    },
                    "metadata": {}
                },
                {
                    "output_type": "display_data",
                    "data": {
                        "text/html": "Commands completed successfully."
                    },
                    "metadata": {}
                },
                {
                    "output_type": "display_data",
                    "data": {
                        "text/html": "Total execution time: 00:00:00.481"
                    },
                    "metadata": {}
                }
            ],
            "execution_count": 1
        },
        {
            "cell_type": "markdown",
            "source": [
                "Por ejemplo el salario de un empleado debe ser mayor a 0, por lo tanto a esa columna le ponemos esta restricción"
            ],
            "metadata": {
                "azdata_cell_guid": "385081a9-17ff-43c2-97f6-ac911defb950"
            }
        },
        {
            "cell_type": "code",
            "source": [
                "CREATE TABLE Empleados\n",
                "( \n",
                "    idEmpleado INT NOT NULL,\n",
                "    apellido VARCHAR(50) NOT NULL,\n",
                "    nombre VARCHAR(50),\n",
                "    salario numeric(10,3),\n",
                "    CONSTRAINT check_salario\n",
                "        CHECK (salario > 0)\n",
                ");\n",
                ""
            ],
            "metadata": {
                "azdata_cell_guid": "af9c84ee-cd23-47c2-b6f6-03a8490f49b3",
                "tags": []
            },
            "outputs": [
                {
                    "output_type": "display_data",
                    "data": {
                        "text/html": "Commands completed successfully."
                    },
                    "metadata": {}
                },
                {
                    "output_type": "display_data",
                    "data": {
                        "text/html": "Total execution time: 00:00:00.004"
                    },
                    "metadata": {}
                }
            ],
            "execution_count": 2
        },
        {
            "cell_type": "markdown",
            "source": [
                "¿Que pasa si agregamos a un empleado con un salario menor o igual a cero?\n",
                "Error al insertar ya que existe una restriccion que no acepte cantidades igual o menor a cero\n",
                ""
            ],
            "metadata": {
                "azdata_cell_guid": "aca9fea8-4d80-4179-855e-4f4794e14e74"
            }
        },
        {
            "cell_type": "code",
            "source": [
                "INSERT  empleados\n",
                "    (idEmpleado,  nombre, apellido,salario)\n",
                "    VALUES (1, 'Rosario', 'Uzárraga', 0 )"
            ],
            "metadata": {
                "azdata_cell_guid": "835d688d-f52a-48be-97d4-950ea4fe960e"
            },
            "outputs": [
                {
                    "output_type": "error",
                    "evalue": "Msg 547, Level 16, State 0, Line 1\r\nThe INSERT statement conflicted with the CHECK constraint \"check_salario\". The conflict occurred in database \"Pruebas\", table \"dbo.Empleados\", column 'salario'.",
                    "ename": "",
                    "traceback": []
                },
                {
                    "output_type": "display_data",
                    "data": {
                        "text/html": "The statement has been terminated."
                    },
                    "metadata": {}
                },
                {
                    "output_type": "display_data",
                    "data": {
                        "text/html": "Total execution time: 00:00:00.007"
                    },
                    "metadata": {}
                }
            ],
            "execution_count": 3
        },
        {
            "cell_type": "markdown",
            "source": [
                "Agregue una restricción para que la columna sexo solo permita los valores 'M' o 'F'"
            ],
            "metadata": {
                "azdata_cell_guid": "239238a4-526b-4427-ba0a-fa9156a26b05"
            }
        },
        {
            "cell_type": "code",
            "source": [
                "ALTER TABLE empleados add sexo CHAR(1), CONSTRAINT chk_sexo CHECK (sexo in ('M','F')) "
            ],
            "metadata": {
                "azdata_cell_guid": "1d9e3af0-bcb9-422e-bd16-f9930e37f704"
            },
            "outputs": [
                {
                    "output_type": "display_data",
                    "data": {
                        "text/html": "Commands completed successfully."
                    },
                    "metadata": {}
                },
                {
                    "output_type": "display_data",
                    "data": {
                        "text/html": "Total execution time: 00:00:00.004"
                    },
                    "metadata": {}
                }
            ],
            "execution_count": 4
        },
        {
            "cell_type": "code",
            "source": [
                "-- Agregue una fila que cumpla la condición\r\n",
                "insert empleados VALUES (2,'Karla','Murillo',1500,'F')"
            ],
            "metadata": {
                "azdata_cell_guid": "fdebcab8-b49c-461f-8a82-e1e9c7684cb1"
            },
            "outputs": [
                {
                    "output_type": "display_data",
                    "data": {
                        "text/html": "(1 row affected)"
                    },
                    "metadata": {}
                },
                {
                    "output_type": "display_data",
                    "data": {
                        "text/html": "Total execution time: 00:00:00.002"
                    },
                    "metadata": {}
                }
            ],
            "execution_count": 5
        },
        {
            "cell_type": "code",
            "source": [
                "-- Agregue una fila que NO cumpla la condición\r\n",
                "insert empleados VALUES (3,'Estela','Mendez',1500,'T')"
            ],
            "metadata": {
                "azdata_cell_guid": "1bb14999-982a-4464-8233-6bdb672baa2b"
            },
            "outputs": [
                {
                    "output_type": "error",
                    "evalue": "Msg 547, Level 16, State 0, Line 2\r\nThe INSERT statement conflicted with the CHECK constraint \"chk_sexo\". The conflict occurred in database \"Pruebas\", table \"dbo.Empleados\", column 'sexo'.",
                    "ename": "",
                    "traceback": []
                },
                {
                    "output_type": "display_data",
                    "data": {
                        "text/html": "The statement has been terminated."
                    },
                    "metadata": {}
                },
                {
                    "output_type": "display_data",
                    "data": {
                        "text/html": "Total execution time: 00:00:00"
                    },
                    "metadata": {}
                }
            ],
            "execution_count": 7
        },
        {
            "cell_type": "markdown",
            "source": [
                "Agregue dos columnas: `nacimiento` y `contratación` donde la fecha de contratación no debe ser anterior al nacimiento"
            ],
            "metadata": {
                "azdata_cell_guid": "4aeb5c0e-49c3-4fd3-aa63-dfa069c265cf"
            }
        },
        {
            "cell_type": "code",
            "source": [
                "ALTER TABLE empleados add nacimiento DATE, contratacion DATE, CONSTRAINT chk_fecha CHECK (contratacion > nacimiento)"
            ],
            "metadata": {
                "azdata_cell_guid": "29e291cd-5945-41d5-b38b-d177684590a8"
            },
            "outputs": [
                {
                    "output_type": "display_data",
                    "data": {
                        "text/html": "Commands completed successfully."
                    },
                    "metadata": {}
                },
                {
                    "output_type": "display_data",
                    "data": {
                        "text/html": "Total execution time: 00:00:00.001"
                    },
                    "metadata": {}
                }
            ],
            "execution_count": 8
        },
        {
            "cell_type": "code",
            "source": [
                "-- Agregue una fila que cumpla la condición\r\n",
                "update empleados \r\n",
                "set nacimiento = '19990505', contratacion = '20200211'\r\n",
                "where idEmpleado = 2"
            ],
            "metadata": {
                "azdata_cell_guid": "9078e712-fc69-493f-b447-a9de4570888b"
            },
            "outputs": [
                {
                    "output_type": "display_data",
                    "data": {
                        "text/html": "(1 row affected)"
                    },
                    "metadata": {}
                },
                {
                    "output_type": "display_data",
                    "data": {
                        "text/html": "Total execution time: 00:00:00"
                    },
                    "metadata": {}
                }
            ],
            "execution_count": 12
        },
        {
            "cell_type": "code",
            "source": [
                "select * from empleados"
            ],
            "metadata": {
                "azdata_cell_guid": "c6055991-ef60-4358-b268-4dce850eef72"
            },
            "outputs": [
                {
                    "output_type": "display_data",
                    "data": {
                        "text/html": "(2 rows affected)"
                    },
                    "metadata": {}
                },
                {
                    "output_type": "display_data",
                    "data": {
                        "text/html": "Total execution time: 00:00:00.003"
                    },
                    "metadata": {}
                },
                {
                    "output_type": "execute_result",
                    "metadata": {},
                    "execution_count": 19,
                    "data": {
                        "application/vnd.dataresource+json": {
                            "schema": {
                                "fields": [
                                    {
                                        "name": "idEmpleado"
                                    },
                                    {
                                        "name": "apellido"
                                    },
                                    {
                                        "name": "nombre"
                                    },
                                    {
                                        "name": "salario"
                                    },
                                    {
                                        "name": "sexo"
                                    },
                                    {
                                        "name": "nacimiento"
                                    },
                                    {
                                        "name": "contratacion"
                                    }
                                ]
                            },
                            "data": [
                                {
                                    "0": "2",
                                    "1": "Karla",
                                    "2": "Murillo",
                                    "3": "1500.000",
                                    "4": "F",
                                    "5": "1999-05-05",
                                    "6": "2020-02-11"
                                },
                                {
                                    "0": "3",
                                    "1": "Estela",
                                    "2": "Mendez",
                                    "3": "1500.000",
                                    "4": "M",
                                    "5": "NULL",
                                    "6": "NULL"
                                }
                            ]
                        },
                        "text/html": "<table><tr><th>idEmpleado</th><th>apellido</th><th>nombre</th><th>salario</th><th>sexo</th><th>nacimiento</th><th>contratacion</th></tr><tr><td>2</td><td>Karla</td><td>Murillo</td><td>1500.000</td><td>F</td><td>1999-05-05</td><td>2020-02-11</td></tr><tr><td>3</td><td>Estela</td><td>Mendez</td><td>1500.000</td><td>M</td><td>NULL</td><td>NULL</td></tr></table>"
                    }
                }
            ],
            "execution_count": 19
        },
        {
            "cell_type": "code",
            "source": [
                "-- Agregue una fila que NO cumpla la condición\r\n",
                "update empleados \r\n",
                "set nacimiento = '19990915', contratacion = '19910211'\r\n",
                "where idEmpleado = 3"
            ],
            "metadata": {
                "azdata_cell_guid": "c3350f6a-b5fe-4e01-a799-e52a60ee0f2e"
            },
            "outputs": [
                {
                    "output_type": "error",
                    "evalue": "Msg 547, Level 16, State 0, Line 2\r\nThe UPDATE statement conflicted with the CHECK constraint \"chk_fecha\". The conflict occurred in database \"Pruebas\", table \"dbo.Empleados\".",
                    "ename": "",
                    "traceback": []
                },
                {
                    "output_type": "display_data",
                    "data": {
                        "text/html": "The statement has been terminated."
                    },
                    "metadata": {}
                },
                {
                    "output_type": "display_data",
                    "data": {
                        "text/html": "Total execution time: 00:00:00"
                    },
                    "metadata": {}
                }
            ],
            "execution_count": 14
        },
        {
            "cell_type": "markdown",
            "source": [
                "La fecha de nacimiento del empleado no puede ser posterior al la fecha actual. Utilice la funcion del sistema `GETDATE()` para definir la condición."
            ],
            "metadata": {
                "azdata_cell_guid": "d2307154-f69f-45a2-8329-2990058a1a58"
            }
        },
        {
            "cell_type": "code",
            "source": [
                "ALTER TABLE empleados add CONSTRAINT chk_fecha2 CHECK (nacimiento < getDate())"
            ],
            "metadata": {
                "azdata_cell_guid": "18ac1520-3afd-4ddf-addf-531ca948b1b7"
            },
            "outputs": [
                {
                    "output_type": "display_data",
                    "data": {
                        "text/html": "Commands completed successfully."
                    },
                    "metadata": {}
                },
                {
                    "output_type": "display_data",
                    "data": {
                        "text/html": "Total execution time: 00:00:00.003"
                    },
                    "metadata": {}
                }
            ],
            "execution_count": 20
        },
        {
            "cell_type": "code",
            "source": [
                "-- Agregue una fila que cumpla la condición\r\n",
                "INSERT  empleados\r\n",
                "    VALUES (1, 'Mayra', 'Marquez', 9000, 'M', '20000211','20220212')"
            ],
            "metadata": {
                "azdata_cell_guid": "696bbd74-bfe7-4051-b1d4-aae23c10caf1"
            },
            "outputs": [
                {
                    "output_type": "display_data",
                    "data": {
                        "text/html": "(1 row affected)"
                    },
                    "metadata": {}
                },
                {
                    "output_type": "display_data",
                    "data": {
                        "text/html": "Total execution time: 00:00:00"
                    },
                    "metadata": {}
                }
            ],
            "execution_count": 22
        },
        {
            "cell_type": "code",
            "source": [
                "-- Agregue una fila que NO cumpla la condición\r\n",
                "INSERT  empleados\r\n",
                "    VALUES (4, 'Saul', 'Sanz', 8000, 'M', '20230211','20220212')"
            ],
            "metadata": {
                "azdata_cell_guid": "353d9ad8-4e9e-43f9-b07e-f8f24df3d465"
            },
            "outputs": [
                {
                    "output_type": "error",
                    "evalue": "Msg 547, Level 16, State 0, Line 2\r\nThe INSERT statement conflicted with the CHECK constraint \"chk_fecha\". The conflict occurred in database \"Pruebas\", table \"dbo.Empleados\".",
                    "ename": "",
                    "traceback": []
                },
                {
                    "output_type": "display_data",
                    "data": {
                        "text/html": "The statement has been terminated."
                    },
                    "metadata": {}
                },
                {
                    "output_type": "display_data",
                    "data": {
                        "text/html": "Total execution time: 00:00:00"
                    },
                    "metadata": {}
                }
            ],
            "execution_count": 24
        },
        {
            "cell_type": "code",
            "source": [
                "select * from empleados"
            ],
            "metadata": {
                "azdata_cell_guid": "a3a1d058-1123-4c7f-9786-00830791d15a"
            },
            "outputs": [
                {
                    "output_type": "display_data",
                    "data": {
                        "text/html": "(3 rows affected)"
                    },
                    "metadata": {}
                },
                {
                    "output_type": "display_data",
                    "data": {
                        "text/html": "Total execution time: 00:00:00.003"
                    },
                    "metadata": {}
                },
                {
                    "output_type": "execute_result",
                    "metadata": {},
                    "execution_count": 23,
                    "data": {
                        "application/vnd.dataresource+json": {
                            "schema": {
                                "fields": [
                                    {
                                        "name": "idEmpleado"
                                    },
                                    {
                                        "name": "apellido"
                                    },
                                    {
                                        "name": "nombre"
                                    },
                                    {
                                        "name": "salario"
                                    },
                                    {
                                        "name": "sexo"
                                    },
                                    {
                                        "name": "nacimiento"
                                    },
                                    {
                                        "name": "contratacion"
                                    }
                                ]
                            },
                            "data": [
                                {
                                    "0": "2",
                                    "1": "Karla",
                                    "2": "Murillo",
                                    "3": "1500.000",
                                    "4": "F",
                                    "5": "1999-05-05",
                                    "6": "2020-02-11"
                                },
                                {
                                    "0": "3",
                                    "1": "Estela",
                                    "2": "Mendez",
                                    "3": "1500.000",
                                    "4": "M",
                                    "5": "NULL",
                                    "6": "NULL"
                                },
                                {
                                    "0": "1",
                                    "1": "Mayra",
                                    "2": "Marquez",
                                    "3": "9000.000",
                                    "4": "M",
                                    "5": "2000-02-11",
                                    "6": "2022-02-12"
                                }
                            ]
                        },
                        "text/html": "<table><tr><th>idEmpleado</th><th>apellido</th><th>nombre</th><th>salario</th><th>sexo</th><th>nacimiento</th><th>contratacion</th></tr><tr><td>2</td><td>Karla</td><td>Murillo</td><td>1500.000</td><td>F</td><td>1999-05-05</td><td>2020-02-11</td></tr><tr><td>3</td><td>Estela</td><td>Mendez</td><td>1500.000</td><td>M</td><td>NULL</td><td>NULL</td></tr><tr><td>1</td><td>Mayra</td><td>Marquez</td><td>9000.000</td><td>M</td><td>2000-02-11</td><td>2022-02-12</td></tr></table>"
                    }
                }
            ],
            "execution_count": 23
        },
        {
            "cell_type": "markdown",
            "source": [
                "De hecho la empresa no puede contratar a menores de edad. Redefina la condición, eliminando la anterior y creandola otra vez"
            ],
            "metadata": {
                "azdata_cell_guid": "0018684c-76ed-42e9-ae3b-b7f0fb6f77d5"
            }
        },
        {
            "cell_type": "code",
            "source": [
                "alter table empleados drop CONSTRAINT chk_fecha\r\n",
                "alter table empleados add CONSTRAINT chk_fecha CHECK (DATEDIFF(year,nacimiento,getdate()) > 18 and nacimiento < contratacion )"
            ],
            "metadata": {
                "azdata_cell_guid": "2947303a-a3dc-4d5d-9582-ccf55057f5aa"
            },
            "outputs": [
                {
                    "output_type": "display_data",
                    "data": {
                        "text/html": "Commands completed successfully."
                    },
                    "metadata": {}
                },
                {
                    "output_type": "display_data",
                    "data": {
                        "text/html": "Total execution time: 00:00:00.003"
                    },
                    "metadata": {}
                }
            ],
            "execution_count": 31
        },
        {
            "cell_type": "code",
            "source": [
                "-- Agregue una fila que cumpla la condición\r\n",
                "INSERT  empleados\r\n",
                "    VALUES (5, 'Mauricio', 'Garcia', 20000, 'M', '19990915','20200212')"
            ],
            "metadata": {
                "azdata_cell_guid": "8f060128-cb89-47b2-a81b-3f429bf4f727"
            },
            "outputs": [
                {
                    "output_type": "display_data",
                    "data": {
                        "text/html": "(1 row affected)"
                    },
                    "metadata": {}
                },
                {
                    "output_type": "display_data",
                    "data": {
                        "text/html": "Total execution time: 00:00:00.003"
                    },
                    "metadata": {}
                }
            ],
            "execution_count": 32
        },
        {
            "cell_type": "code",
            "source": [
                "-- Agregue una fila que NO cumpla la condición\r\n",
                "INSERT  empleados\r\n",
                "    VALUES (5, 'Mauricio', 'Garcia', 20000, 'M', '20050915','20200212')"
            ],
            "metadata": {
                "azdata_cell_guid": "594e7910-19f4-4306-b190-694356cbba50"
            },
            "outputs": [
                {
                    "output_type": "error",
                    "evalue": "Msg 547, Level 16, State 0, Line 2\r\nThe INSERT statement conflicted with the CHECK constraint \"chk_fecha\". The conflict occurred in database \"Pruebas\", table \"dbo.Empleados\".",
                    "ename": "",
                    "traceback": []
                },
                {
                    "output_type": "display_data",
                    "data": {
                        "text/html": "The statement has been terminated."
                    },
                    "metadata": {}
                },
                {
                    "output_type": "display_data",
                    "data": {
                        "text/html": "Total execution time: 00:00:00"
                    },
                    "metadata": {}
                }
            ],
            "execution_count": 33
        }
    ]
}