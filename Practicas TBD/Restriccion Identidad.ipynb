{
    "metadata": {
        "kernelspec": {
            "name": "SQL",
            "display_name": "SQL",
            "language": "sql"
        },
        "language_info": {
            "name": "sql",
            "version": ""
        }
    },
    "nbformat_minor": 2,
    "nbformat": 4,
    "cells": [
        {
            "cell_type": "markdown",
            "source": [
                "# Identidad\n",
                "\n",
                "Llaves primarias\n",
                "`PRIMARY KEY`\n",
                "\n",
                "Llaves sustitutas\n",
                "`IDENTITY (1,1)`\n",
                "\n",
                ""
            ],
            "metadata": {
                "azdata_cell_guid": "891f8c81-8103-47c3-9858-62efc6d34122"
            }
        },
        {
            "cell_type": "code",
            "source": [
                "create DATABASE prueba\r\n",
                "GO\r\n",
                "\r\n",
                "create table Persona(\r\n",
                "    rfc NCHAR(13),\r\n",
                "    nombre NVARCHAR(40)\r\n",
                ")"
            ],
            "metadata": {
                "azdata_cell_guid": "3b0c73dc-dc86-4d4d-b98b-900cbe0619fc"
            },
            "outputs": [
                {
                    "output_type": "error",
                    "evalue": "Msg 1801, Level 16, State 3, Line 1\r\nDatabase 'prueba' already exists. Choose a different database name.",
                    "ename": "",
                    "traceback": []
                },
                {
                    "output_type": "error",
                    "evalue": "Msg 2714, Level 16, State 6, Line 4\r\nThere is already an object named 'Persona' in the database.",
                    "ename": "",
                    "traceback": []
                },
                {
                    "output_type": "display_data",
                    "data": {
                        "text/html": "Total execution time: 00:00:00.148"
                    },
                    "metadata": {}
                }
            ],
            "execution_count": 2
        },
        {
            "cell_type": "code",
            "source": [
                "insert into persona values ('GARM990915HSL','Mauricio García Rubio')\r\n",
                "insert into persona values ('GARM990915HSL','Mauricio García Rubio')\r\n",
                "insert into persona values ('GARM990915HSL','Mauricio García Rubio')\r\n",
                "insert into persona values ('GARM990915HSL','Mauricio García Rubio')\r\n",
                "select * from Persona"
            ],
            "metadata": {
                "azdata_cell_guid": "f72f8a92-ce33-4e30-a450-e7ec987a11f3"
            },
            "outputs": [
                {
                    "output_type": "display_data",
                    "data": {
                        "text/html": "(1 row affected)"
                    },
                    "metadata": {}
                },
                {
                    "output_type": "display_data",
                    "data": {
                        "text/html": "(1 row affected)"
                    },
                    "metadata": {}
                },
                {
                    "output_type": "display_data",
                    "data": {
                        "text/html": "(1 row affected)"
                    },
                    "metadata": {}
                },
                {
                    "output_type": "display_data",
                    "data": {
                        "text/html": "(1 row affected)"
                    },
                    "metadata": {}
                },
                {
                    "output_type": "display_data",
                    "data": {
                        "text/html": "(4 rows affected)"
                    },
                    "metadata": {}
                },
                {
                    "output_type": "display_data",
                    "data": {
                        "text/html": "Total execution time: 00:00:00.295"
                    },
                    "metadata": {}
                },
                {
                    "output_type": "execute_result",
                    "metadata": {},
                    "execution_count": 3,
                    "data": {
                        "application/vnd.dataresource+json": {
                            "schema": {
                                "fields": [
                                    {
                                        "name": "rfc"
                                    },
                                    {
                                        "name": "nombre"
                                    }
                                ]
                            },
                            "data": [
                                {
                                    "0": "GARM990915HSL",
                                    "1": "Mauricio García Rubio"
                                },
                                {
                                    "0": "GARM990915HSL",
                                    "1": "Mauricio García Rubio"
                                },
                                {
                                    "0": "GARM990915HSL",
                                    "1": "Mauricio García Rubio"
                                },
                                {
                                    "0": "GARM990915HSL",
                                    "1": "Mauricio García Rubio"
                                }
                            ]
                        },
                        "text/html": "<table><tr><th>rfc</th><th>nombre</th></tr><tr><td>GARM990915HSL</td><td>Mauricio García Rubio</td></tr><tr><td>GARM990915HSL</td><td>Mauricio García Rubio</td></tr><tr><td>GARM990915HSL</td><td>Mauricio García Rubio</td></tr><tr><td>GARM990915HSL</td><td>Mauricio García Rubio</td></tr></table>"
                    }
                }
            ],
            "execution_count": 3
        },
        {
            "cell_type": "code",
            "source": [
                "create table persona2 (\r\n",
                "    rfc NVARCHAR(13) PRIMARY key,\r\n",
                "    nombre NVARCHAR(40)\r\n",
                ")"
            ],
            "metadata": {
                "azdata_cell_guid": "19d09932-3320-48e0-90f2-0ee83b0d472d"
            },
            "outputs": [
                {
                    "output_type": "display_data",
                    "data": {
                        "text/html": "Commands completed successfully."
                    },
                    "metadata": {}
                },
                {
                    "output_type": "display_data",
                    "data": {
                        "text/html": "Total execution time: 00:00:00.002"
                    },
                    "metadata": {}
                }
            ],
            "execution_count": 4
        },
        {
            "cell_type": "code",
            "source": [
                "insert into persona2 values ('GARM990915HSL','Mauricio García Rubio'),('RFCX153214','Rfc inventado')"
            ],
            "metadata": {
                "azdata_cell_guid": "6277a070-abed-4bd3-92e3-e1f08f04a9dc"
            },
            "outputs": [
                {
                    "output_type": "display_data",
                    "data": {
                        "text/html": "(2 rows affected)"
                    },
                    "metadata": {}
                },
                {
                    "output_type": "display_data",
                    "data": {
                        "text/html": "Total execution time: 00:00:00.001"
                    },
                    "metadata": {}
                }
            ],
            "execution_count": 5
        },
        {
            "cell_type": "code",
            "source": [
                "create table persona3 (\r\n",
                "    id integer IDENTITY,\r\n",
                "    nombre NVARCHAR(40)\r\n",
                ")"
            ],
            "metadata": {
                "azdata_cell_guid": "2066392c-409e-403a-bf5f-1a0ca02d848a"
            },
            "outputs": [],
            "execution_count": 0
        }
    ]
}