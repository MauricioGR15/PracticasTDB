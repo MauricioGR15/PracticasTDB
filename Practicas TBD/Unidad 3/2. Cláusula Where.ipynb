{
    "metadata": {
        "kernelspec": {
            "name": "SQL",
            "display_name": "SQL",
            "language": "sql"
        },
        "language_info": {
            "name": "sql",
            "version": ""
        }
    },
    "nbformat_minor": 2,
    "nbformat": 4,
    "cells": [
        {
            "cell_type": "markdown",
            "source": [
                "# Condiciones de búsqueda#\n",
                "\n",
                "En la cláusula `WHERE` se pueden incluir diferentes tipos de condiciones de búsqueda\n",
                "<table>\n",
                "<tr><td>Operadores de comparación <td>>, <, =, >=, <=, <>\n",
                "<tr><td>Rangos<td>\tBetween, Not Between\n",
                "<tr><td>Listas<td> \t\t\t\tIn, Not in\n",
                "<tr><td>Comparación de strings<td>           Like, Not Like\n",
                "<tr><td>Valores desconocidos<td>\t\t Is Null, Is not Null\n",
                "<tr><td>Negación\t\t\t<td>  NOT\n",
                "<tr><td>Lógicos\t\t\t<td>And, Or\n",
                "</table>\n",
                ""
            ],
            "metadata": {
                "azdata_cell_guid": "bb32722c-9b89-49e7-9911-1e678ae62387"
            }
        },
        {
            "cell_type": "markdown",
            "source": [
                "## Paso 0\n",
                "\n",
                "Esta práctica requiere la Base de Datos Northwind"
            ],
            "metadata": {
                "azdata_cell_guid": "a626f292-4356-4e58-9a70-084922c30c67"
            }
        },
        {
            "cell_type": "code",
            "source": [
                "USE [Northwind]\n",
                ""
            ],
            "metadata": {
                "azdata_cell_guid": "cb20512d-cdeb-4a5d-a94c-0c6feb45971f"
            },
            "outputs": [
                {
                    "output_type": "display_data",
                    "data": {
                        "text/html": "Commands completed successfully."
                    },
                    "metadata": {}
                },
                {
                    "output_type": "display_data",
                    "data": {
                        "text/html": "Total execution time: 00:00:00.097"
                    },
                    "metadata": {}
                }
            ],
            "execution_count": 1
        },
        {
            "cell_type": "markdown",
            "source": [
                "## Paso 1: Operadores de comparación ##\n",
                "\n",
                "Obtenga los productos cuyo precio unitario (`UnitPrice`) sea menor o igual a 30"
            ],
            "metadata": {
                "azdata_cell_guid": "0cf0457e-e0a8-4d3e-baa5-f89ca0cb36c8"
            }
        },
        {
            "cell_type": "code",
            "source": [
                "SELECT productName ,unitPrice from Products\n",
                "    WHERE unitPrice <= 30"
            ],
            "metadata": {
                "azdata_cell_guid": "d8b6607e-7c75-4218-98aa-1cb7d489f379"
            },
            "outputs": [
                {
                    "output_type": "display_data",
                    "data": {
                        "text/html": "(53 rows affected)"
                    },
                    "metadata": {}
                },
                {
                    "output_type": "display_data",
                    "data": {
                        "text/html": "Total execution time: 00:00:00.006"
                    },
                    "metadata": {}
                },
                {
                    "output_type": "execute_result",
                    "metadata": {},
                    "execution_count": 3,
                    "data": {
                        "application/vnd.dataresource+json": {
                            "schema": {
                                "fields": [
                                    {
                                        "name": "productName"
                                    },
                                    {
                                        "name": "unitPrice"
                                    }
                                ]
                            },
                            "data": [
                                {
                                    "0": "Chai",
                                    "1": "18.0000"
                                },
                                {
                                    "0": "Chang",
                                    "1": "19.0000"
                                },
                                {
                                    "0": "Aniseed Syrup",
                                    "1": "10.0000"
                                },
                                {
                                    "0": "Chef Anton's Cajun Seasoning",
                                    "1": "22.0000"
                                },
                                {
                                    "0": "Chef Anton's Gumbo Mix",
                                    "1": "21.3500"
                                },
                                {
                                    "0": "Grandma's Boysenberry Spread",
                                    "1": "25.0000"
                                },
                                {
                                    "0": "Uncle Bob's Organic Dried Pears",
                                    "1": "30.0000"
                                },
                                {
                                    "0": "Queso Cabrales",
                                    "1": "21.0000"
                                },
                                {
                                    "0": "Konbu",
                                    "1": "6.0000"
                                },
                                {
                                    "0": "Tofu",
                                    "1": "23.2500"
                                },
                                {
                                    "0": "Genen Shouyu",
                                    "1": "15.5000"
                                },
                                {
                                    "0": "Pavlova",
                                    "1": "17.4500"
                                },
                                {
                                    "0": "Teatime Chocolate Biscuits",
                                    "1": "9.2000"
                                },
                                {
                                    "0": "Sir Rodney's Scones",
                                    "1": "10.0000"
                                },
                                {
                                    "0": "Gustaf's Knäckebröd",
                                    "1": "21.0000"
                                },
                                {
                                    "0": "Tunnbröd",
                                    "1": "9.0000"
                                },
                                {
                                    "0": "Guaraná Fantástica",
                                    "1": "4.5000"
                                },
                                {
                                    "0": "NuNuCa Nuß-Nougat-Creme",
                                    "1": "14.0000"
                                },
                                {
                                    "0": "Nord-Ost Matjeshering",
                                    "1": "25.8900"
                                },
                                {
                                    "0": "Gorgonzola Telino",
                                    "1": "12.5000"
                                },
                                {
                                    "0": "Geitost",
                                    "1": "2.5000"
                                },
                                {
                                    "0": "Sasquatch Ale",
                                    "1": "14.0000"
                                },
                                {
                                    "0": "Steeleye Stout",
                                    "1": "18.0000"
                                },
                                {
                                    "0": "Inlagd Sill",
                                    "1": "19.0000"
                                },
                                {
                                    "0": "Gravad lax",
                                    "1": "26.0000"
                                },
                                {
                                    "0": "Chartreuse verte",
                                    "1": "18.0000"
                                },
                                {
                                    "0": "Boston Crab Meat",
                                    "1": "18.4000"
                                },
                                {
                                    "0": "Jack's New England Clam Chowder",
                                    "1": "9.6500"
                                },
                                {
                                    "0": "Singaporean Hokkien Fried Mee",
                                    "1": "14.0000"
                                },
                                {
                                    "0": "Gula Malacca",
                                    "1": "19.4500"
                                },
                                {
                                    "0": "Rogede sild",
                                    "1": "9.5000"
                                },
                                {
                                    "0": "Spegesild",
                                    "1": "12.0000"
                                },
                                {
                                    "0": "Zaanse koeken",
                                    "1": "9.5000"
                                },
                                {
                                    "0": "Chocolade",
                                    "1": "12.7500"
                                },
                                {
                                    "0": "Maxilaku",
                                    "1": "20.0000"
                                },
                                {
                                    "0": "Valkoinen suklaa",
                                    "1": "16.2500"
                                },
                                {
                                    "0": "Filo Mix",
                                    "1": "7.0000"
                                },
                                {
                                    "0": "Tourtière",
                                    "1": "7.4500"
                                },
                                {
                                    "0": "Pâté chinois",
                                    "1": "24.0000"
                                },
                                {
                                    "0": "Ravioli Angelo",
                                    "1": "19.5000"
                                },
                                {
                                    "0": "Escargots de Bourgogne",
                                    "1": "13.2500"
                                },
                                {
                                    "0": "Sirop d'érable",
                                    "1": "28.5000"
                                },
                                {
                                    "0": "Louisiana Fiery Hot Pepper Sauce",
                                    "1": "21.0500"
                                },
                                {
                                    "0": "Louisiana Hot Spiced Okra",
                                    "1": "17.0000"
                                },
                                {
                                    "0": "Laughing Lumberjack Lager",
                                    "1": "14.0000"
                                },
                                {
                                    "0": "Scottish Longbreads",
                                    "1": "12.5000"
                                },
                                {
                                    "0": "Outback Lager",
                                    "1": "15.0000"
                                },
                                {
                                    "0": "Flotemysost",
                                    "1": "21.5000"
                                },
                                {
                                    "0": "Röd Kaviar",
                                    "1": "15.0000"
                                },
                                {
                                    "0": "Longlife Tofu",
                                    "1": "10.0000"
                                },
                                {
                                    "0": "Rhönbräu Klosterbier",
                                    "1": "7.7500"
                                },
                                {
                                    "0": "Lakkalikööri",
                                    "1": "18.0000"
                                },
                                {
                                    "0": "Original Frankfurter grüne Soße",
                                    "1": "13.0000"
                                }
                            ]
                        },
                        "text/html": "<table><tr><th>productName</th><th>unitPrice</th></tr><tr><td>Chai</td><td>18.0000</td></tr><tr><td>Chang</td><td>19.0000</td></tr><tr><td>Aniseed Syrup</td><td>10.0000</td></tr><tr><td>Chef Anton's Cajun Seasoning</td><td>22.0000</td></tr><tr><td>Chef Anton's Gumbo Mix</td><td>21.3500</td></tr><tr><td>Grandma's Boysenberry Spread</td><td>25.0000</td></tr><tr><td>Uncle Bob's Organic Dried Pears</td><td>30.0000</td></tr><tr><td>Queso Cabrales</td><td>21.0000</td></tr><tr><td>Konbu</td><td>6.0000</td></tr><tr><td>Tofu</td><td>23.2500</td></tr><tr><td>Genen Shouyu</td><td>15.5000</td></tr><tr><td>Pavlova</td><td>17.4500</td></tr><tr><td>Teatime Chocolate Biscuits</td><td>9.2000</td></tr><tr><td>Sir Rodney's Scones</td><td>10.0000</td></tr><tr><td>Gustaf's Knäckebröd</td><td>21.0000</td></tr><tr><td>Tunnbröd</td><td>9.0000</td></tr><tr><td>Guaraná Fantástica</td><td>4.5000</td></tr><tr><td>NuNuCa Nuß-Nougat-Creme</td><td>14.0000</td></tr><tr><td>Nord-Ost Matjeshering</td><td>25.8900</td></tr><tr><td>Gorgonzola Telino</td><td>12.5000</td></tr><tr><td>Geitost</td><td>2.5000</td></tr><tr><td>Sasquatch Ale</td><td>14.0000</td></tr><tr><td>Steeleye Stout</td><td>18.0000</td></tr><tr><td>Inlagd Sill</td><td>19.0000</td></tr><tr><td>Gravad lax</td><td>26.0000</td></tr><tr><td>Chartreuse verte</td><td>18.0000</td></tr><tr><td>Boston Crab Meat</td><td>18.4000</td></tr><tr><td>Jack's New England Clam Chowder</td><td>9.6500</td></tr><tr><td>Singaporean Hokkien Fried Mee</td><td>14.0000</td></tr><tr><td>Gula Malacca</td><td>19.4500</td></tr><tr><td>Rogede sild</td><td>9.5000</td></tr><tr><td>Spegesild</td><td>12.0000</td></tr><tr><td>Zaanse koeken</td><td>9.5000</td></tr><tr><td>Chocolade</td><td>12.7500</td></tr><tr><td>Maxilaku</td><td>20.0000</td></tr><tr><td>Valkoinen suklaa</td><td>16.2500</td></tr><tr><td>Filo Mix</td><td>7.0000</td></tr><tr><td>Tourtière</td><td>7.4500</td></tr><tr><td>Pâté chinois</td><td>24.0000</td></tr><tr><td>Ravioli Angelo</td><td>19.5000</td></tr><tr><td>Escargots de Bourgogne</td><td>13.2500</td></tr><tr><td>Sirop d'érable</td><td>28.5000</td></tr><tr><td>Louisiana Fiery Hot Pepper Sauce</td><td>21.0500</td></tr><tr><td>Louisiana Hot Spiced Okra</td><td>17.0000</td></tr><tr><td>Laughing Lumberjack Lager</td><td>14.0000</td></tr><tr><td>Scottish Longbreads</td><td>12.5000</td></tr><tr><td>Outback Lager</td><td>15.0000</td></tr><tr><td>Flotemysost</td><td>21.5000</td></tr><tr><td>Röd Kaviar</td><td>15.0000</td></tr><tr><td>Longlife Tofu</td><td>10.0000</td></tr><tr><td>Rhönbräu Klosterbier</td><td>7.7500</td></tr><tr><td>Lakkalikööri</td><td>18.0000</td></tr><tr><td>Original Frankfurter grüne Soße</td><td>13.0000</td></tr></table>"
                    }
                }
            ],
            "execution_count": 3
        },
        {
            "cell_type": "markdown",
            "source": [
                "## Paso2: Rangos ##\n",
                "Obtenga los productos cuyo precio unitario esté entre 20 y 40"
            ],
            "metadata": {
                "azdata_cell_guid": "eac74360-2d6c-40df-bf1d-154e51d0d052"
            }
        },
        {
            "cell_type": "code",
            "source": [
                "SELECT productName, unitPrice from products where\n",
                "    unitprice BETWEEN 20 and 40"
            ],
            "metadata": {
                "azdata_cell_guid": "951edd8d-b8e9-4a02-8f5b-215be9317d97"
            },
            "outputs": [
                {
                    "output_type": "display_data",
                    "data": {
                        "text/html": "(26 rows affected)"
                    },
                    "metadata": {}
                },
                {
                    "output_type": "display_data",
                    "data": {
                        "text/html": "Total execution time: 00:00:00.003"
                    },
                    "metadata": {}
                },
                {
                    "output_type": "execute_result",
                    "metadata": {},
                    "execution_count": 4,
                    "data": {
                        "application/vnd.dataresource+json": {
                            "schema": {
                                "fields": [
                                    {
                                        "name": "productName"
                                    },
                                    {
                                        "name": "unitPrice"
                                    }
                                ]
                            },
                            "data": [
                                {
                                    "0": "Chef Anton's Cajun Seasoning",
                                    "1": "22.0000"
                                },
                                {
                                    "0": "Chef Anton's Gumbo Mix",
                                    "1": "21.3500"
                                },
                                {
                                    "0": "Grandma's Boysenberry Spread",
                                    "1": "25.0000"
                                },
                                {
                                    "0": "Uncle Bob's Organic Dried Pears",
                                    "1": "30.0000"
                                },
                                {
                                    "0": "Northwoods Cranberry Sauce",
                                    "1": "40.0000"
                                },
                                {
                                    "0": "Ikura",
                                    "1": "31.0000"
                                },
                                {
                                    "0": "Queso Cabrales",
                                    "1": "21.0000"
                                },
                                {
                                    "0": "Queso Manchego La Pastora",
                                    "1": "38.0000"
                                },
                                {
                                    "0": "Tofu",
                                    "1": "23.2500"
                                },
                                {
                                    "0": "Alice Mutton",
                                    "1": "39.0000"
                                },
                                {
                                    "0": "Gustaf's Knäckebröd",
                                    "1": "21.0000"
                                },
                                {
                                    "0": "Gumbär Gummibärchen",
                                    "1": "31.2300"
                                },
                                {
                                    "0": "Nord-Ost Matjeshering",
                                    "1": "25.8900"
                                },
                                {
                                    "0": "Mascarpone Fabioli",
                                    "1": "32.0000"
                                },
                                {
                                    "0": "Gravad lax",
                                    "1": "26.0000"
                                },
                                {
                                    "0": "Maxilaku",
                                    "1": "20.0000"
                                },
                                {
                                    "0": "Perth Pasties",
                                    "1": "32.8000"
                                },
                                {
                                    "0": "Pâté chinois",
                                    "1": "24.0000"
                                },
                                {
                                    "0": "Gnocchi di nonna Alice",
                                    "1": "38.0000"
                                },
                                {
                                    "0": "Camembert Pierrot",
                                    "1": "34.0000"
                                },
                                {
                                    "0": "Sirop d'érable",
                                    "1": "28.5000"
                                },
                                {
                                    "0": "Wimmers gute Semmelknödel",
                                    "1": "33.2500"
                                },
                                {
                                    "0": "Louisiana Fiery Hot Pepper Sauce",
                                    "1": "21.0500"
                                },
                                {
                                    "0": "Gudbrandsdalsost",
                                    "1": "36.0000"
                                },
                                {
                                    "0": "Flotemysost",
                                    "1": "21.5000"
                                },
                                {
                                    "0": "Mozzarella di Giovanni",
                                    "1": "34.8000"
                                }
                            ]
                        },
                        "text/html": "<table><tr><th>productName</th><th>unitPrice</th></tr><tr><td>Chef Anton's Cajun Seasoning</td><td>22.0000</td></tr><tr><td>Chef Anton's Gumbo Mix</td><td>21.3500</td></tr><tr><td>Grandma's Boysenberry Spread</td><td>25.0000</td></tr><tr><td>Uncle Bob's Organic Dried Pears</td><td>30.0000</td></tr><tr><td>Northwoods Cranberry Sauce</td><td>40.0000</td></tr><tr><td>Ikura</td><td>31.0000</td></tr><tr><td>Queso Cabrales</td><td>21.0000</td></tr><tr><td>Queso Manchego La Pastora</td><td>38.0000</td></tr><tr><td>Tofu</td><td>23.2500</td></tr><tr><td>Alice Mutton</td><td>39.0000</td></tr><tr><td>Gustaf's Knäckebröd</td><td>21.0000</td></tr><tr><td>Gumbär Gummibärchen</td><td>31.2300</td></tr><tr><td>Nord-Ost Matjeshering</td><td>25.8900</td></tr><tr><td>Mascarpone Fabioli</td><td>32.0000</td></tr><tr><td>Gravad lax</td><td>26.0000</td></tr><tr><td>Maxilaku</td><td>20.0000</td></tr><tr><td>Perth Pasties</td><td>32.8000</td></tr><tr><td>Pâté chinois</td><td>24.0000</td></tr><tr><td>Gnocchi di nonna Alice</td><td>38.0000</td></tr><tr><td>Camembert Pierrot</td><td>34.0000</td></tr><tr><td>Sirop d'érable</td><td>28.5000</td></tr><tr><td>Wimmers gute Semmelknödel</td><td>33.2500</td></tr><tr><td>Louisiana Fiery Hot Pepper Sauce</td><td>21.0500</td></tr><tr><td>Gudbrandsdalsost</td><td>36.0000</td></tr><tr><td>Flotemysost</td><td>21.5000</td></tr><tr><td>Mozzarella di Giovanni</td><td>34.8000</td></tr></table>"
                    }
                }
            ],
            "execution_count": 4
        },
        {
            "cell_type": "markdown",
            "source": [
                "## Paso 3: Listas ##\n",
                "\n",
                "Recupere los Productos que pertenezcan a las categorías 2, 3, 6 y 8 (`CategoryID`)"
            ],
            "metadata": {
                "azdata_cell_guid": "e0aeedd0-7fa1-45b5-a58b-6d21fd1be83a"
            }
        },
        {
            "cell_type": "code",
            "source": [
                "SELECT productname, categoryId from products\n",
                "    WHERE categoryID IN (2,3,6,8)"
            ],
            "metadata": {
                "azdata_cell_guid": "bbd1a222-532d-4265-b757-a6bb3932843f"
            },
            "outputs": [
                {
                    "output_type": "display_data",
                    "data": {
                        "text/html": "(43 rows affected)"
                    },
                    "metadata": {}
                },
                {
                    "output_type": "display_data",
                    "data": {
                        "text/html": "Total execution time: 00:00:00.008"
                    },
                    "metadata": {}
                },
                {
                    "output_type": "execute_result",
                    "metadata": {},
                    "execution_count": 5,
                    "data": {
                        "application/vnd.dataresource+json": {
                            "schema": {
                                "fields": [
                                    {
                                        "name": "productname"
                                    },
                                    {
                                        "name": "categoryId"
                                    }
                                ]
                            },
                            "data": [
                                {
                                    "0": "Aniseed Syrup",
                                    "1": "2"
                                },
                                {
                                    "0": "Chef Anton's Cajun Seasoning",
                                    "1": "2"
                                },
                                {
                                    "0": "Chef Anton's Gumbo Mix",
                                    "1": "2"
                                },
                                {
                                    "0": "Grandma's Boysenberry Spread",
                                    "1": "2"
                                },
                                {
                                    "0": "Northwoods Cranberry Sauce",
                                    "1": "2"
                                },
                                {
                                    "0": "Mishi Kobe Niku",
                                    "1": "6"
                                },
                                {
                                    "0": "Ikura",
                                    "1": "8"
                                },
                                {
                                    "0": "Konbu",
                                    "1": "8"
                                },
                                {
                                    "0": "Genen Shouyu",
                                    "1": "2"
                                },
                                {
                                    "0": "Pavlova",
                                    "1": "3"
                                },
                                {
                                    "0": "Alice Mutton",
                                    "1": "6"
                                },
                                {
                                    "0": "Carnarvon Tigers",
                                    "1": "8"
                                },
                                {
                                    "0": "Teatime Chocolate Biscuits",
                                    "1": "3"
                                },
                                {
                                    "0": "Sir Rodney's Marmalade",
                                    "1": "3"
                                },
                                {
                                    "0": "Sir Rodney's Scones",
                                    "1": "3"
                                },
                                {
                                    "0": "NuNuCa Nuß-Nougat-Creme",
                                    "1": "3"
                                },
                                {
                                    "0": "Gumbär Gummibärchen",
                                    "1": "3"
                                },
                                {
                                    "0": "Schoggi Schokolade",
                                    "1": "3"
                                },
                                {
                                    "0": "Thüringer Rostbratwurst",
                                    "1": "6"
                                },
                                {
                                    "0": "Nord-Ost Matjeshering",
                                    "1": "8"
                                },
                                {
                                    "0": "Inlagd Sill",
                                    "1": "8"
                                },
                                {
                                    "0": "Gravad lax",
                                    "1": "8"
                                },
                                {
                                    "0": "Boston Crab Meat",
                                    "1": "8"
                                },
                                {
                                    "0": "Jack's New England Clam Chowder",
                                    "1": "8"
                                },
                                {
                                    "0": "Gula Malacca",
                                    "1": "2"
                                },
                                {
                                    "0": "Rogede sild",
                                    "1": "8"
                                },
                                {
                                    "0": "Spegesild",
                                    "1": "8"
                                },
                                {
                                    "0": "Zaanse koeken",
                                    "1": "3"
                                },
                                {
                                    "0": "Chocolade",
                                    "1": "3"
                                },
                                {
                                    "0": "Maxilaku",
                                    "1": "3"
                                },
                                {
                                    "0": "Valkoinen suklaa",
                                    "1": "3"
                                },
                                {
                                    "0": "Perth Pasties",
                                    "1": "6"
                                },
                                {
                                    "0": "Tourtière",
                                    "1": "6"
                                },
                                {
                                    "0": "Pâté chinois",
                                    "1": "6"
                                },
                                {
                                    "0": "Escargots de Bourgogne",
                                    "1": "8"
                                },
                                {
                                    "0": "Sirop d'érable",
                                    "1": "2"
                                },
                                {
                                    "0": "Tarte au sucre",
                                    "1": "3"
                                },
                                {
                                    "0": "Vegie-spread",
                                    "1": "2"
                                },
                                {
                                    "0": "Louisiana Fiery Hot Pepper Sauce",
                                    "1": "2"
                                },
                                {
                                    "0": "Louisiana Hot Spiced Okra",
                                    "1": "2"
                                },
                                {
                                    "0": "Scottish Longbreads",
                                    "1": "3"
                                },
                                {
                                    "0": "Röd Kaviar",
                                    "1": "8"
                                },
                                {
                                    "0": "Original Frankfurter grüne Soße",
                                    "1": "2"
                                }
                            ]
                        },
                        "text/html": "<table><tr><th>productname</th><th>categoryId</th></tr><tr><td>Aniseed Syrup</td><td>2</td></tr><tr><td>Chef Anton's Cajun Seasoning</td><td>2</td></tr><tr><td>Chef Anton's Gumbo Mix</td><td>2</td></tr><tr><td>Grandma's Boysenberry Spread</td><td>2</td></tr><tr><td>Northwoods Cranberry Sauce</td><td>2</td></tr><tr><td>Mishi Kobe Niku</td><td>6</td></tr><tr><td>Ikura</td><td>8</td></tr><tr><td>Konbu</td><td>8</td></tr><tr><td>Genen Shouyu</td><td>2</td></tr><tr><td>Pavlova</td><td>3</td></tr><tr><td>Alice Mutton</td><td>6</td></tr><tr><td>Carnarvon Tigers</td><td>8</td></tr><tr><td>Teatime Chocolate Biscuits</td><td>3</td></tr><tr><td>Sir Rodney's Marmalade</td><td>3</td></tr><tr><td>Sir Rodney's Scones</td><td>3</td></tr><tr><td>NuNuCa Nuß-Nougat-Creme</td><td>3</td></tr><tr><td>Gumbär Gummibärchen</td><td>3</td></tr><tr><td>Schoggi Schokolade</td><td>3</td></tr><tr><td>Thüringer Rostbratwurst</td><td>6</td></tr><tr><td>Nord-Ost Matjeshering</td><td>8</td></tr><tr><td>Inlagd Sill</td><td>8</td></tr><tr><td>Gravad lax</td><td>8</td></tr><tr><td>Boston Crab Meat</td><td>8</td></tr><tr><td>Jack's New England Clam Chowder</td><td>8</td></tr><tr><td>Gula Malacca</td><td>2</td></tr><tr><td>Rogede sild</td><td>8</td></tr><tr><td>Spegesild</td><td>8</td></tr><tr><td>Zaanse koeken</td><td>3</td></tr><tr><td>Chocolade</td><td>3</td></tr><tr><td>Maxilaku</td><td>3</td></tr><tr><td>Valkoinen suklaa</td><td>3</td></tr><tr><td>Perth Pasties</td><td>6</td></tr><tr><td>Tourtière</td><td>6</td></tr><tr><td>Pâté chinois</td><td>6</td></tr><tr><td>Escargots de Bourgogne</td><td>8</td></tr><tr><td>Sirop d'érable</td><td>2</td></tr><tr><td>Tarte au sucre</td><td>3</td></tr><tr><td>Vegie-spread</td><td>2</td></tr><tr><td>Louisiana Fiery Hot Pepper Sauce</td><td>2</td></tr><tr><td>Louisiana Hot Spiced Okra</td><td>2</td></tr><tr><td>Scottish Longbreads</td><td>3</td></tr><tr><td>Röd Kaviar</td><td>8</td></tr><tr><td>Original Frankfurter grüne Soße</td><td>2</td></tr></table>"
                    }
                }
            ],
            "execution_count": 5
        },
        {
            "cell_type": "markdown",
            "source": [
                "## Paso 4 : Valores desconocidos##\n",
                "\n",
                "Obtenge los clientes (`Customers`) cuya región (`Region`) es desconocida\n",
                ""
            ],
            "metadata": {
                "azdata_cell_guid": "3c21cbbf-b27c-4af3-9437-44ff5c1c65bf"
            }
        },
        {
            "cell_type": "code",
            "source": [
                "SELECT companyName from customers where\n",
                "    region IS NULL"
            ],
            "metadata": {
                "azdata_cell_guid": "86af2117-86fa-48d9-ad10-6e759a1666f8"
            },
            "outputs": [
                {
                    "output_type": "display_data",
                    "data": {
                        "text/html": "(60 rows affected)"
                    },
                    "metadata": {}
                },
                {
                    "output_type": "display_data",
                    "data": {
                        "text/html": "Total execution time: 00:00:00.003"
                    },
                    "metadata": {}
                },
                {
                    "output_type": "execute_result",
                    "metadata": {},
                    "execution_count": 9,
                    "data": {
                        "application/vnd.dataresource+json": {
                            "schema": {
                                "fields": [
                                    {
                                        "name": "companyName"
                                    }
                                ]
                            },
                            "data": [
                                {
                                    "0": "Alfreds Futterkiste"
                                },
                                {
                                    "0": "Ana Trujillo Emparedados y helados"
                                },
                                {
                                    "0": "Antonio Moreno Taquería"
                                },
                                {
                                    "0": "Around the Horn"
                                },
                                {
                                    "0": "Berglunds snabbköp"
                                },
                                {
                                    "0": "Blauer See Delikatessen"
                                },
                                {
                                    "0": "Blondesddsl père et fils"
                                },
                                {
                                    "0": "Bólido Comidas preparadas"
                                },
                                {
                                    "0": "Bon app'"
                                },
                                {
                                    "0": "B's Beverages"
                                },
                                {
                                    "0": "Cactus Comidas para llevar"
                                },
                                {
                                    "0": "Centro comercial Moctezuma"
                                },
                                {
                                    "0": "Chop-suey Chinese"
                                },
                                {
                                    "0": "Consolidated Holdings"
                                },
                                {
                                    "0": "Drachenblut Delikatessen"
                                },
                                {
                                    "0": "Du monde entier"
                                },
                                {
                                    "0": "Eastern Connection"
                                },
                                {
                                    "0": "Ernst Handel"
                                },
                                {
                                    "0": "FISSA Fabrica Inter. Salchichas S.A."
                                },
                                {
                                    "0": "Folies gourmandes"
                                },
                                {
                                    "0": "Folk och fä HB"
                                },
                                {
                                    "0": "Frankenversand"
                                },
                                {
                                    "0": "France restauration"
                                },
                                {
                                    "0": "Franchi S.p.A."
                                },
                                {
                                    "0": "Furia Bacalhau e Frutos do Mar"
                                },
                                {
                                    "0": "Galería del gastrónomo"
                                },
                                {
                                    "0": "Godos Cocina Típica"
                                },
                                {
                                    "0": "Königlich Essen"
                                },
                                {
                                    "0": "La corne d'abondance"
                                },
                                {
                                    "0": "La maison d'Asie"
                                },
                                {
                                    "0": "Lehmanns Marktstand"
                                },
                                {
                                    "0": "Magazzini Alimentari Riuniti"
                                },
                                {
                                    "0": "Maison Dewey"
                                },
                                {
                                    "0": "Morgenstern Gesundkost"
                                },
                                {
                                    "0": "North/South"
                                },
                                {
                                    "0": "Océano Atlántico Ltda."
                                },
                                {
                                    "0": "Ottilies Käseladen"
                                },
                                {
                                    "0": "Paris spécialités"
                                },
                                {
                                    "0": "Pericles Comidas clásicas"
                                },
                                {
                                    "0": "Piccolo und mehr"
                                },
                                {
                                    "0": "Princesa Isabel Vinhos"
                                },
                                {
                                    "0": "QUICK-Stop"
                                },
                                {
                                    "0": "Rancho grande"
                                },
                                {
                                    "0": "Reggiani Caseifici"
                                },
                                {
                                    "0": "Richter Supermarkt"
                                },
                                {
                                    "0": "Romero y tomillo"
                                },
                                {
                                    "0": "Santé Gourmet"
                                },
                                {
                                    "0": "Seven Seas Imports"
                                },
                                {
                                    "0": "Simons bistro"
                                },
                                {
                                    "0": "Spécialités du monde"
                                },
                                {
                                    "0": "Suprêmes délices"
                                },
                                {
                                    "0": "Toms Spezialitäten"
                                },
                                {
                                    "0": "Tortuga Restaurante"
                                },
                                {
                                    "0": "Vaffeljernet"
                                },
                                {
                                    "0": "Victuailles en stock"
                                },
                                {
                                    "0": "Vins et alcools Chevalier"
                                },
                                {
                                    "0": "Die Wandernde Kuh"
                                },
                                {
                                    "0": "Wartian Herkku"
                                },
                                {
                                    "0": "Wilman Kala"
                                },
                                {
                                    "0": "Wolski  Zajazd"
                                }
                            ]
                        },
                        "text/html": "<table><tr><th>companyName</th></tr><tr><td>Alfreds Futterkiste</td></tr><tr><td>Ana Trujillo Emparedados y helados</td></tr><tr><td>Antonio Moreno Taquería</td></tr><tr><td>Around the Horn</td></tr><tr><td>Berglunds snabbköp</td></tr><tr><td>Blauer See Delikatessen</td></tr><tr><td>Blondesddsl père et fils</td></tr><tr><td>Bólido Comidas preparadas</td></tr><tr><td>Bon app'</td></tr><tr><td>B's Beverages</td></tr><tr><td>Cactus Comidas para llevar</td></tr><tr><td>Centro comercial Moctezuma</td></tr><tr><td>Chop-suey Chinese</td></tr><tr><td>Consolidated Holdings</td></tr><tr><td>Drachenblut Delikatessen</td></tr><tr><td>Du monde entier</td></tr><tr><td>Eastern Connection</td></tr><tr><td>Ernst Handel</td></tr><tr><td>FISSA Fabrica Inter. Salchichas S.A.</td></tr><tr><td>Folies gourmandes</td></tr><tr><td>Folk och fä HB</td></tr><tr><td>Frankenversand</td></tr><tr><td>France restauration</td></tr><tr><td>Franchi S.p.A.</td></tr><tr><td>Furia Bacalhau e Frutos do Mar</td></tr><tr><td>Galería del gastrónomo</td></tr><tr><td>Godos Cocina Típica</td></tr><tr><td>Königlich Essen</td></tr><tr><td>La corne d'abondance</td></tr><tr><td>La maison d'Asie</td></tr><tr><td>Lehmanns Marktstand</td></tr><tr><td>Magazzini Alimentari Riuniti</td></tr><tr><td>Maison Dewey</td></tr><tr><td>Morgenstern Gesundkost</td></tr><tr><td>North/South</td></tr><tr><td>Océano Atlántico Ltda.</td></tr><tr><td>Ottilies Käseladen</td></tr><tr><td>Paris spécialités</td></tr><tr><td>Pericles Comidas clásicas</td></tr><tr><td>Piccolo und mehr</td></tr><tr><td>Princesa Isabel Vinhos</td></tr><tr><td>QUICK-Stop</td></tr><tr><td>Rancho grande</td></tr><tr><td>Reggiani Caseifici</td></tr><tr><td>Richter Supermarkt</td></tr><tr><td>Romero y tomillo</td></tr><tr><td>Santé Gourmet</td></tr><tr><td>Seven Seas Imports</td></tr><tr><td>Simons bistro</td></tr><tr><td>Spécialités du monde</td></tr><tr><td>Suprêmes délices</td></tr><tr><td>Toms Spezialitäten</td></tr><tr><td>Tortuga Restaurante</td></tr><tr><td>Vaffeljernet</td></tr><tr><td>Victuailles en stock</td></tr><tr><td>Vins et alcools Chevalier</td></tr><tr><td>Die Wandernde Kuh</td></tr><tr><td>Wartian Herkku</td></tr><tr><td>Wilman Kala</td></tr><tr><td>Wolski  Zajazd</td></tr></table>"
                    }
                }
            ],
            "execution_count": 9
        },
        {
            "cell_type": "markdown",
            "source": [
                "## Paso 5 : Negación ##\n",
                "\n",
                "Obtenga los clientes que no sean de Argentina (`Country`)"
            ],
            "metadata": {
                "azdata_cell_guid": "edaebe47-457b-49ec-93a5-997fe23867d3"
            }
        },
        {
            "cell_type": "code",
            "source": [
                "SELECT customerID, companyName,country from customers where\n",
                "   NOT country='Arg' "
            ],
            "metadata": {
                "azdata_cell_guid": "83cbabcc-1b30-4c98-8547-60abc5f78bb1"
            },
            "outputs": [
                {
                    "output_type": "display_data",
                    "data": {
                        "text/html": "(91 rows affected)"
                    },
                    "metadata": {}
                },
                {
                    "output_type": "display_data",
                    "data": {
                        "text/html": "Total execution time: 00:00:00.003"
                    },
                    "metadata": {}
                },
                {
                    "output_type": "execute_result",
                    "metadata": {},
                    "execution_count": 14,
                    "data": {
                        "application/vnd.dataresource+json": {
                            "schema": {
                                "fields": [
                                    {
                                        "name": "customerID"
                                    },
                                    {
                                        "name": "companyName"
                                    },
                                    {
                                        "name": "country"
                                    }
                                ]
                            },
                            "data": [
                                {
                                    "0": "ALFKI",
                                    "1": "Alfreds Futterkiste",
                                    "2": "Germany"
                                },
                                {
                                    "0": "ANATR",
                                    "1": "Ana Trujillo Emparedados y helados",
                                    "2": "Mexico"
                                },
                                {
                                    "0": "ANTON",
                                    "1": "Antonio Moreno Taquería",
                                    "2": "Mexico"
                                },
                                {
                                    "0": "AROUT",
                                    "1": "Around the Horn",
                                    "2": "UK"
                                },
                                {
                                    "0": "BERGS",
                                    "1": "Berglunds snabbköp",
                                    "2": "Sweden"
                                },
                                {
                                    "0": "BLAUS",
                                    "1": "Blauer See Delikatessen",
                                    "2": "Germany"
                                },
                                {
                                    "0": "BLONP",
                                    "1": "Blondesddsl père et fils",
                                    "2": "France"
                                },
                                {
                                    "0": "BOLID",
                                    "1": "Bólido Comidas preparadas",
                                    "2": "Spain"
                                },
                                {
                                    "0": "BONAP",
                                    "1": "Bon app'",
                                    "2": "France"
                                },
                                {
                                    "0": "BOTTM",
                                    "1": "Bottom-Dollar Markets",
                                    "2": "Canada"
                                },
                                {
                                    "0": "BSBEV",
                                    "1": "B's Beverages",
                                    "2": "UK"
                                },
                                {
                                    "0": "CACTU",
                                    "1": "Cactus Comidas para llevar",
                                    "2": "Argentina"
                                },
                                {
                                    "0": "CENTC",
                                    "1": "Centro comercial Moctezuma",
                                    "2": "Mexico"
                                },
                                {
                                    "0": "CHOPS",
                                    "1": "Chop-suey Chinese",
                                    "2": "Switzerland"
                                },
                                {
                                    "0": "COMMI",
                                    "1": "Comércio Mineiro",
                                    "2": "Brazil"
                                },
                                {
                                    "0": "CONSH",
                                    "1": "Consolidated Holdings",
                                    "2": "UK"
                                },
                                {
                                    "0": "DRACD",
                                    "1": "Drachenblut Delikatessen",
                                    "2": "Germany"
                                },
                                {
                                    "0": "DUMON",
                                    "1": "Du monde entier",
                                    "2": "France"
                                },
                                {
                                    "0": "EASTC",
                                    "1": "Eastern Connection",
                                    "2": "UK"
                                },
                                {
                                    "0": "ERNSH",
                                    "1": "Ernst Handel",
                                    "2": "Austria"
                                },
                                {
                                    "0": "FAMIA",
                                    "1": "Familia Arquibaldo",
                                    "2": "Brazil"
                                },
                                {
                                    "0": "FISSA",
                                    "1": "FISSA Fabrica Inter. Salchichas S.A.",
                                    "2": "Spain"
                                },
                                {
                                    "0": "FOLIG",
                                    "1": "Folies gourmandes",
                                    "2": "France"
                                },
                                {
                                    "0": "FOLKO",
                                    "1": "Folk och fä HB",
                                    "2": "Sweden"
                                },
                                {
                                    "0": "FRANK",
                                    "1": "Frankenversand",
                                    "2": "Germany"
                                },
                                {
                                    "0": "FRANR",
                                    "1": "France restauration",
                                    "2": "France"
                                },
                                {
                                    "0": "FRANS",
                                    "1": "Franchi S.p.A.",
                                    "2": "Italy"
                                },
                                {
                                    "0": "FURIB",
                                    "1": "Furia Bacalhau e Frutos do Mar",
                                    "2": "Portugal"
                                },
                                {
                                    "0": "GALED",
                                    "1": "Galería del gastrónomo",
                                    "2": "Spain"
                                },
                                {
                                    "0": "GODOS",
                                    "1": "Godos Cocina Típica",
                                    "2": "Spain"
                                },
                                {
                                    "0": "GOURL",
                                    "1": "Gourmet Lanchonetes",
                                    "2": "Brazil"
                                },
                                {
                                    "0": "GREAL",
                                    "1": "Great Lakes Food Market",
                                    "2": "USA"
                                },
                                {
                                    "0": "GROSR",
                                    "1": "GROSELLA-Restaurante",
                                    "2": "Venezuela"
                                },
                                {
                                    "0": "HANAR",
                                    "1": "Hanari Carnes",
                                    "2": "Brazil"
                                },
                                {
                                    "0": "HILAA",
                                    "1": "HILARION-Abastos",
                                    "2": "Venezuela"
                                },
                                {
                                    "0": "HUNGC",
                                    "1": "Hungry Coyote Import Store",
                                    "2": "USA"
                                },
                                {
                                    "0": "HUNGO",
                                    "1": "Hungry Owl All-Night Grocers",
                                    "2": "Ireland"
                                },
                                {
                                    "0": "ISLAT",
                                    "1": "Island Trading",
                                    "2": "UK"
                                },
                                {
                                    "0": "KOENE",
                                    "1": "Königlich Essen",
                                    "2": "Germany"
                                },
                                {
                                    "0": "LACOR",
                                    "1": "La corne d'abondance",
                                    "2": "France"
                                },
                                {
                                    "0": "LAMAI",
                                    "1": "La maison d'Asie",
                                    "2": "France"
                                },
                                {
                                    "0": "LAUGB",
                                    "1": "Laughing Bacchus Wine Cellars",
                                    "2": "Canada"
                                },
                                {
                                    "0": "LAZYK",
                                    "1": "Lazy K Kountry Store",
                                    "2": "USA"
                                },
                                {
                                    "0": "LEHMS",
                                    "1": "Lehmanns Marktstand",
                                    "2": "Germany"
                                },
                                {
                                    "0": "LETSS",
                                    "1": "Let's Stop N Shop",
                                    "2": "USA"
                                },
                                {
                                    "0": "LILAS",
                                    "1": "LILA-Supermercado",
                                    "2": "Venezuela"
                                },
                                {
                                    "0": "LINOD",
                                    "1": "LINO-Delicateses",
                                    "2": "Venezuela"
                                },
                                {
                                    "0": "LONEP",
                                    "1": "Lonesome Pine Restaurant",
                                    "2": "USA"
                                },
                                {
                                    "0": "MAGAA",
                                    "1": "Magazzini Alimentari Riuniti",
                                    "2": "Italy"
                                },
                                {
                                    "0": "MAISD",
                                    "1": "Maison Dewey",
                                    "2": "Belgium"
                                },
                                {
                                    "0": "MEREP",
                                    "1": "Mère Paillarde",
                                    "2": "Canada"
                                },
                                {
                                    "0": "MORGK",
                                    "1": "Morgenstern Gesundkost",
                                    "2": "Germany"
                                },
                                {
                                    "0": "NORTS",
                                    "1": "North/South",
                                    "2": "UK"
                                },
                                {
                                    "0": "OCEAN",
                                    "1": "Océano Atlántico Ltda.",
                                    "2": "Argentina"
                                },
                                {
                                    "0": "OLDWO",
                                    "1": "Old World Delicatessen",
                                    "2": "USA"
                                },
                                {
                                    "0": "OTTIK",
                                    "1": "Ottilies Käseladen",
                                    "2": "Germany"
                                },
                                {
                                    "0": "PARIS",
                                    "1": "Paris spécialités",
                                    "2": "France"
                                },
                                {
                                    "0": "PERIC",
                                    "1": "Pericles Comidas clásicas",
                                    "2": "Mexico"
                                },
                                {
                                    "0": "PICCO",
                                    "1": "Piccolo und mehr",
                                    "2": "Austria"
                                },
                                {
                                    "0": "PRINI",
                                    "1": "Princesa Isabel Vinhos",
                                    "2": "Portugal"
                                },
                                {
                                    "0": "QUEDE",
                                    "1": "Que Delícia",
                                    "2": "Brazil"
                                },
                                {
                                    "0": "QUEEN",
                                    "1": "Queen Cozinha",
                                    "2": "Brazil"
                                },
                                {
                                    "0": "QUICK",
                                    "1": "QUICK-Stop",
                                    "2": "Germany"
                                },
                                {
                                    "0": "RANCH",
                                    "1": "Rancho grande",
                                    "2": "Argentina"
                                },
                                {
                                    "0": "RATTC",
                                    "1": "Rattlesnake Canyon Grocery",
                                    "2": "USA"
                                },
                                {
                                    "0": "REGGC",
                                    "1": "Reggiani Caseifici",
                                    "2": "Italy"
                                },
                                {
                                    "0": "RICAR",
                                    "1": "Ricardo Adocicados",
                                    "2": "Brazil"
                                },
                                {
                                    "0": "RICSU",
                                    "1": "Richter Supermarkt",
                                    "2": "Switzerland"
                                },
                                {
                                    "0": "ROMEY",
                                    "1": "Romero y tomillo",
                                    "2": "Spain"
                                },
                                {
                                    "0": "SANTG",
                                    "1": "Santé Gourmet",
                                    "2": "Norway"
                                },
                                {
                                    "0": "SAVEA",
                                    "1": "Save-a-lot Markets",
                                    "2": "USA"
                                },
                                {
                                    "0": "SEVES",
                                    "1": "Seven Seas Imports",
                                    "2": "UK"
                                },
                                {
                                    "0": "SIMOB",
                                    "1": "Simons bistro",
                                    "2": "Denmark"
                                },
                                {
                                    "0": "SPECD",
                                    "1": "Spécialités du monde",
                                    "2": "France"
                                },
                                {
                                    "0": "SPLIR",
                                    "1": "Split Rail Beer & Ale",
                                    "2": "USA"
                                },
                                {
                                    "0": "SUPRD",
                                    "1": "Suprêmes délices",
                                    "2": "Belgium"
                                },
                                {
                                    "0": "THEBI",
                                    "1": "The Big Cheese",
                                    "2": "USA"
                                },
                                {
                                    "0": "THECR",
                                    "1": "The Cracker Box",
                                    "2": "USA"
                                },
                                {
                                    "0": "TOMSP",
                                    "1": "Toms Spezialitäten",
                                    "2": "Germany"
                                },
                                {
                                    "0": "TORTU",
                                    "1": "Tortuga Restaurante",
                                    "2": "Mexico"
                                },
                                {
                                    "0": "TRADH",
                                    "1": "Tradição Hipermercados",
                                    "2": "Brazil"
                                },
                                {
                                    "0": "TRAIH",
                                    "1": "Trail's Head Gourmet Provisioners",
                                    "2": "USA"
                                },
                                {
                                    "0": "VAFFE",
                                    "1": "Vaffeljernet",
                                    "2": "Denmark"
                                },
                                {
                                    "0": "VICTE",
                                    "1": "Victuailles en stock",
                                    "2": "France"
                                },
                                {
                                    "0": "VINET",
                                    "1": "Vins et alcools Chevalier",
                                    "2": "France"
                                },
                                {
                                    "0": "WANDK",
                                    "1": "Die Wandernde Kuh",
                                    "2": "Germany"
                                },
                                {
                                    "0": "WARTH",
                                    "1": "Wartian Herkku",
                                    "2": "Finland"
                                },
                                {
                                    "0": "WELLI",
                                    "1": "Wellington Importadora",
                                    "2": "Brazil"
                                },
                                {
                                    "0": "WHITC",
                                    "1": "White Clover Markets",
                                    "2": "USA"
                                },
                                {
                                    "0": "WILMK",
                                    "1": "Wilman Kala",
                                    "2": "Finland"
                                },
                                {
                                    "0": "WOLZA",
                                    "1": "Wolski  Zajazd",
                                    "2": "Poland"
                                }
                            ]
                        },
                        "text/html": "<table><tr><th>customerID</th><th>companyName</th><th>country</th></tr><tr><td>ALFKI</td><td>Alfreds Futterkiste</td><td>Germany</td></tr><tr><td>ANATR</td><td>Ana Trujillo Emparedados y helados</td><td>Mexico</td></tr><tr><td>ANTON</td><td>Antonio Moreno Taquería</td><td>Mexico</td></tr><tr><td>AROUT</td><td>Around the Horn</td><td>UK</td></tr><tr><td>BERGS</td><td>Berglunds snabbköp</td><td>Sweden</td></tr><tr><td>BLAUS</td><td>Blauer See Delikatessen</td><td>Germany</td></tr><tr><td>BLONP</td><td>Blondesddsl père et fils</td><td>France</td></tr><tr><td>BOLID</td><td>Bólido Comidas preparadas</td><td>Spain</td></tr><tr><td>BONAP</td><td>Bon app'</td><td>France</td></tr><tr><td>BOTTM</td><td>Bottom-Dollar Markets</td><td>Canada</td></tr><tr><td>BSBEV</td><td>B's Beverages</td><td>UK</td></tr><tr><td>CACTU</td><td>Cactus Comidas para llevar</td><td>Argentina</td></tr><tr><td>CENTC</td><td>Centro comercial Moctezuma</td><td>Mexico</td></tr><tr><td>CHOPS</td><td>Chop-suey Chinese</td><td>Switzerland</td></tr><tr><td>COMMI</td><td>Comércio Mineiro</td><td>Brazil</td></tr><tr><td>CONSH</td><td>Consolidated Holdings</td><td>UK</td></tr><tr><td>DRACD</td><td>Drachenblut Delikatessen</td><td>Germany</td></tr><tr><td>DUMON</td><td>Du monde entier</td><td>France</td></tr><tr><td>EASTC</td><td>Eastern Connection</td><td>UK</td></tr><tr><td>ERNSH</td><td>Ernst Handel</td><td>Austria</td></tr><tr><td>FAMIA</td><td>Familia Arquibaldo</td><td>Brazil</td></tr><tr><td>FISSA</td><td>FISSA Fabrica Inter. Salchichas S.A.</td><td>Spain</td></tr><tr><td>FOLIG</td><td>Folies gourmandes</td><td>France</td></tr><tr><td>FOLKO</td><td>Folk och fä HB</td><td>Sweden</td></tr><tr><td>FRANK</td><td>Frankenversand</td><td>Germany</td></tr><tr><td>FRANR</td><td>France restauration</td><td>France</td></tr><tr><td>FRANS</td><td>Franchi S.p.A.</td><td>Italy</td></tr><tr><td>FURIB</td><td>Furia Bacalhau e Frutos do Mar</td><td>Portugal</td></tr><tr><td>GALED</td><td>Galería del gastrónomo</td><td>Spain</td></tr><tr><td>GODOS</td><td>Godos Cocina Típica</td><td>Spain</td></tr><tr><td>GOURL</td><td>Gourmet Lanchonetes</td><td>Brazil</td></tr><tr><td>GREAL</td><td>Great Lakes Food Market</td><td>USA</td></tr><tr><td>GROSR</td><td>GROSELLA-Restaurante</td><td>Venezuela</td></tr><tr><td>HANAR</td><td>Hanari Carnes</td><td>Brazil</td></tr><tr><td>HILAA</td><td>HILARION-Abastos</td><td>Venezuela</td></tr><tr><td>HUNGC</td><td>Hungry Coyote Import Store</td><td>USA</td></tr><tr><td>HUNGO</td><td>Hungry Owl All-Night Grocers</td><td>Ireland</td></tr><tr><td>ISLAT</td><td>Island Trading</td><td>UK</td></tr><tr><td>KOENE</td><td>Königlich Essen</td><td>Germany</td></tr><tr><td>LACOR</td><td>La corne d'abondance</td><td>France</td></tr><tr><td>LAMAI</td><td>La maison d'Asie</td><td>France</td></tr><tr><td>LAUGB</td><td>Laughing Bacchus Wine Cellars</td><td>Canada</td></tr><tr><td>LAZYK</td><td>Lazy K Kountry Store</td><td>USA</td></tr><tr><td>LEHMS</td><td>Lehmanns Marktstand</td><td>Germany</td></tr><tr><td>LETSS</td><td>Let's Stop N Shop</td><td>USA</td></tr><tr><td>LILAS</td><td>LILA-Supermercado</td><td>Venezuela</td></tr><tr><td>LINOD</td><td>LINO-Delicateses</td><td>Venezuela</td></tr><tr><td>LONEP</td><td>Lonesome Pine Restaurant</td><td>USA</td></tr><tr><td>MAGAA</td><td>Magazzini Alimentari Riuniti</td><td>Italy</td></tr><tr><td>MAISD</td><td>Maison Dewey</td><td>Belgium</td></tr><tr><td>MEREP</td><td>Mère Paillarde</td><td>Canada</td></tr><tr><td>MORGK</td><td>Morgenstern Gesundkost</td><td>Germany</td></tr><tr><td>NORTS</td><td>North/South</td><td>UK</td></tr><tr><td>OCEAN</td><td>Océano Atlántico Ltda.</td><td>Argentina</td></tr><tr><td>OLDWO</td><td>Old World Delicatessen</td><td>USA</td></tr><tr><td>OTTIK</td><td>Ottilies Käseladen</td><td>Germany</td></tr><tr><td>PARIS</td><td>Paris spécialités</td><td>France</td></tr><tr><td>PERIC</td><td>Pericles Comidas clásicas</td><td>Mexico</td></tr><tr><td>PICCO</td><td>Piccolo und mehr</td><td>Austria</td></tr><tr><td>PRINI</td><td>Princesa Isabel Vinhos</td><td>Portugal</td></tr><tr><td>QUEDE</td><td>Que Delícia</td><td>Brazil</td></tr><tr><td>QUEEN</td><td>Queen Cozinha</td><td>Brazil</td></tr><tr><td>QUICK</td><td>QUICK-Stop</td><td>Germany</td></tr><tr><td>RANCH</td><td>Rancho grande</td><td>Argentina</td></tr><tr><td>RATTC</td><td>Rattlesnake Canyon Grocery</td><td>USA</td></tr><tr><td>REGGC</td><td>Reggiani Caseifici</td><td>Italy</td></tr><tr><td>RICAR</td><td>Ricardo Adocicados</td><td>Brazil</td></tr><tr><td>RICSU</td><td>Richter Supermarkt</td><td>Switzerland</td></tr><tr><td>ROMEY</td><td>Romero y tomillo</td><td>Spain</td></tr><tr><td>SANTG</td><td>Santé Gourmet</td><td>Norway</td></tr><tr><td>SAVEA</td><td>Save-a-lot Markets</td><td>USA</td></tr><tr><td>SEVES</td><td>Seven Seas Imports</td><td>UK</td></tr><tr><td>SIMOB</td><td>Simons bistro</td><td>Denmark</td></tr><tr><td>SPECD</td><td>Spécialités du monde</td><td>France</td></tr><tr><td>SPLIR</td><td>Split Rail Beer &amp; Ale</td><td>USA</td></tr><tr><td>SUPRD</td><td>Suprêmes délices</td><td>Belgium</td></tr><tr><td>THEBI</td><td>The Big Cheese</td><td>USA</td></tr><tr><td>THECR</td><td>The Cracker Box</td><td>USA</td></tr><tr><td>TOMSP</td><td>Toms Spezialitäten</td><td>Germany</td></tr><tr><td>TORTU</td><td>Tortuga Restaurante</td><td>Mexico</td></tr><tr><td>TRADH</td><td>Tradição Hipermercados</td><td>Brazil</td></tr><tr><td>TRAIH</td><td>Trail's Head Gourmet Provisioners</td><td>USA</td></tr><tr><td>VAFFE</td><td>Vaffeljernet</td><td>Denmark</td></tr><tr><td>VICTE</td><td>Victuailles en stock</td><td>France</td></tr><tr><td>VINET</td><td>Vins et alcools Chevalier</td><td>France</td></tr><tr><td>WANDK</td><td>Die Wandernde Kuh</td><td>Germany</td></tr><tr><td>WARTH</td><td>Wartian Herkku</td><td>Finland</td></tr><tr><td>WELLI</td><td>Wellington Importadora</td><td>Brazil</td></tr><tr><td>WHITC</td><td>White Clover Markets</td><td>USA</td></tr><tr><td>WILMK</td><td>Wilman Kala</td><td>Finland</td></tr><tr><td>WOLZA</td><td>Wolski  Zajazd</td><td>Poland</td></tr></table>"
                    }
                }
            ],
            "execution_count": 14
        },
        {
            "cell_type": "markdown",
            "source": [
                "## Paso 6: Lógicos ##\n",
                "\n",
                "Obtenga el nombre y precio de los productos lácteos y cárnicos (*Categoría 4 y 6 respectivamente*) cuyo existencia en almacén (`UnitsInStock`) esté por debajo de su nivel de reorden ( `ReorderLevel`). Omitir los productos descontinuados. Muestre las colunas adicionales que demuestreen que la información es correcta.\n",
                ""
            ],
            "metadata": {
                "azdata_cell_guid": "90df0a88-88d8-4c99-9994-c61d930c0b24"
            }
        },
        {
            "cell_type": "markdown",
            "source": [
                "Si dejo el discontinued en 1 (true) la consulta no regrese ninguna tupla"
            ],
            "metadata": {
                "azdata_cell_guid": "9f7db69a-1152-44ad-89bb-eddb1786bd77"
            }
        },
        {
            "cell_type": "code",
            "source": [
                "SELECT productName, unitPRice,categoryId,unitsInStock,ReorderLevel, discontinued from products\n",
                "    WHERE (categoryId in (4,6) and (unitsInStock < ReorderLevel) and discontinued = 0)"
            ],
            "metadata": {
                "azdata_cell_guid": "12e49fc8-f1ee-4722-b517-da5edb43c401"
            },
            "outputs": [
                {
                    "output_type": "display_data",
                    "data": {
                        "text/html": "(3 rows affected)"
                    },
                    "metadata": {}
                },
                {
                    "output_type": "display_data",
                    "data": {
                        "text/html": "Total execution time: 00:00:00.003"
                    },
                    "metadata": {}
                },
                {
                    "output_type": "execute_result",
                    "metadata": {},
                    "execution_count": 19,
                    "data": {
                        "application/vnd.dataresource+json": {
                            "schema": {
                                "fields": [
                                    {
                                        "name": "productName"
                                    },
                                    {
                                        "name": "unitPRice"
                                    },
                                    {
                                        "name": "categoryId"
                                    },
                                    {
                                        "name": "unitsInStock"
                                    },
                                    {
                                        "name": "ReorderLevel"
                                    },
                                    {
                                        "name": "discontinued"
                                    }
                                ]
                            },
                            "data": [
                                {
                                    "0": "Queso Cabrales",
                                    "1": "21.0000",
                                    "2": "4",
                                    "3": "22",
                                    "4": "30",
                                    "5": "0"
                                },
                                {
                                    "0": "Gorgonzola Telino",
                                    "1": "12.5000",
                                    "2": "4",
                                    "3": "0",
                                    "4": "20",
                                    "5": "0"
                                },
                                {
                                    "0": "Mascarpone Fabioli",
                                    "1": "32.0000",
                                    "2": "4",
                                    "3": "9",
                                    "4": "25",
                                    "5": "0"
                                }
                            ]
                        },
                        "text/html": "<table><tr><th>productName</th><th>unitPRice</th><th>categoryId</th><th>unitsInStock</th><th>ReorderLevel</th><th>discontinued</th></tr><tr><td>Queso Cabrales</td><td>21.0000</td><td>4</td><td>22</td><td>30</td><td>0</td></tr><tr><td>Gorgonzola Telino</td><td>12.5000</td><td>4</td><td>0</td><td>20</td><td>0</td></tr><tr><td>Mascarpone Fabioli</td><td>32.0000</td><td>4</td><td>9</td><td>25</td><td>0</td></tr></table>"
                    }
                }
            ],
            "execution_count": 19
        }
    ]
}