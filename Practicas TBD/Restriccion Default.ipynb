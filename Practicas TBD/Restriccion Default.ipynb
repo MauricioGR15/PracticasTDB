{
    "metadata": {
        "kernelspec": {
            "name": "SQL",
            "display_name": "SQL",
            "language": "sql"
        },
        "language_info": {
            "name": "sql",
            "version": ""
        }
    },
    "nbformat_minor": 2,
    "nbformat": 4,
    "cells": [
        {
            "cell_type": "code",
            "source": [
                "create database empresas\r\n",
                "go\r\n",
                "\r\n",
                "use empresas"
            ],
            "metadata": {
                "azdata_cell_guid": "0b36c8c6-32cc-4f1e-915b-e2db8107990f"
            },
            "outputs": [
                {
                    "output_type": "display_data",
                    "data": {
                        "text/html": "Commands completed successfully."
                    },
                    "metadata": {}
                },
                {
                    "output_type": "display_data",
                    "data": {
                        "text/html": "Commands completed successfully."
                    },
                    "metadata": {}
                },
                {
                    "output_type": "display_data",
                    "data": {
                        "text/html": "Total execution time: 00:00:00.867"
                    },
                    "metadata": {}
                }
            ],
            "execution_count": 1
        },
        {
            "cell_type": "code",
            "source": [
                "create table empleados(\r\n",
                "    nombre NVARCHAR(20),\r\n",
                "    apellido NVARCHAR(30),\r\n",
                "    edad integer,\r\n",
                "    pais NVARCHAR(30) DEFAULT 'México', \r\n",
                "    primary key (nombre,apellido)\r\n",
                ")"
            ],
            "metadata": {
                "azdata_cell_guid": "6b9048d2-2400-449f-9709-fd286e45bb54"
            },
            "outputs": [
                {
                    "output_type": "display_data",
                    "data": {
                        "text/html": "Commands completed successfully."
                    },
                    "metadata": {}
                },
                {
                    "output_type": "display_data",
                    "data": {
                        "text/html": "Total execution time: 00:00:00.077"
                    },
                    "metadata": {}
                }
            ],
            "execution_count": 2
        },
        {
            "cell_type": "code",
            "source": [
                "insert into empleados values ('Juan','Pérez',15,null)\n",
                "insert into empleados values ('Otro','Nombre',18,default)"
            ],
            "metadata": {
                "azdata_cell_guid": "d7cb0854-67a2-4040-b5b1-c0b833711edf"
            },
            "outputs": [
                {
                    "output_type": "display_data",
                    "data": {
                        "text/html": "(1 row affected)"
                    },
                    "metadata": {}
                },
                {
                    "output_type": "display_data",
                    "data": {
                        "text/html": "(1 row affected)"
                    },
                    "metadata": {}
                },
                {
                    "output_type": "display_data",
                    "data": {
                        "text/html": "Total execution time: 00:00:00.005"
                    },
                    "metadata": {}
                }
            ],
            "execution_count": 6
        },
        {
            "cell_type": "code",
            "source": [
                "select * from empleados"
            ],
            "metadata": {
                "azdata_cell_guid": "7b1f1687-d729-47c9-b258-5392b6b03037"
            },
            "outputs": [
                {
                    "output_type": "display_data",
                    "data": {
                        "text/html": "(3 rows affected)"
                    },
                    "metadata": {}
                },
                {
                    "output_type": "display_data",
                    "data": {
                        "text/html": "Total execution time: 00:00:00.092"
                    },
                    "metadata": {}
                },
                {
                    "output_type": "execute_result",
                    "execution_count": 7,
                    "data": {
                        "application/vnd.dataresource+json": {
                            "schema": {
                                "fields": [
                                    {
                                        "name": "nombre"
                                    },
                                    {
                                        "name": "apellido"
                                    },
                                    {
                                        "name": "edad"
                                    },
                                    {
                                        "name": "pais"
                                    }
                                ]
                            },
                            "data": [
                                {
                                    "0": "Juan",
                                    "1": "Pérez",
                                    "2": "15",
                                    "3": "NULL"
                                },
                                {
                                    "0": "Juan",
                                    "1": "Pérez",
                                    "2": "15",
                                    "3": "NULL"
                                },
                                {
                                    "0": "Otro",
                                    "1": "Nombre",
                                    "2": "18",
                                    "3": "México"
                                }
                            ]
                        },
                        "text/html": "<table><tr><th>nombre</th><th>apellido</th><th>edad</th><th>pais</th></tr><tr><td>Juan</td><td>Pérez</td><td>15</td><td>NULL</td></tr><tr><td>Juan</td><td>Pérez</td><td>15</td><td>NULL</td></tr><tr><td>Otro</td><td>Nombre</td><td>18</td><td>México</td></tr></table>"
                    },
                    "metadata": {}
                }
            ],
            "execution_count": 7
        }
    ]
}